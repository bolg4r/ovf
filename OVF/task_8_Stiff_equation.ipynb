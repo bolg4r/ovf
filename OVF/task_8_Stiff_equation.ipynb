{
 "cells": [
  {
   "cell_type": "markdown",
   "metadata": {},
   "source": [
    "# Задание 8"
   ]
  },
  {
   "cell_type": "markdown",
   "metadata": {},
   "source": [
    "Решить жесткую систему уравнений по явной и неявной схемам Эйлера:\n",
    "\n",
    "$$\\left\\{\\begin{matrix}\n",
    "{u}' = 998u + 1998v\\\\ \n",
    "{v}' = -999u - 1999v\n",
    "\\end{matrix}\\right.$$"
   ]
  },
  {
   "cell_type": "markdown",
   "metadata": {},
   "source": [
    "## Жесткая система уравний\n",
    "\n",
    "**Определение: Система линейных уравнений Au` = f является жесткой, если велико отношение максимального и минимального модуля собственных значений**\n",
    "\n",
    "$$s = \\frac{maxRe(\\lambda _k)}{minRe(\\lambda _k)}$$\n"
   ]
  },
  {
   "cell_type": "code",
   "execution_count": 1,
   "metadata": {},
   "outputs": [],
   "source": [
    "from matplotlib import pyplot as plt\n",
    "from math import exp"
   ]
  },
  {
   "cell_type": "code",
   "execution_count": 2,
   "metadata": {},
   "outputs": [],
   "source": [
    "a = 998\n",
    "b = 1998\n",
    "c = -999\n",
    "d = -1999"
   ]
  },
  {
   "cell_type": "code",
   "execution_count": 3,
   "metadata": {},
   "outputs": [],
   "source": [
    "def f1(x, y):\n",
    "    return a*x + b*y\n",
    "\n",
    "def f2(x, y):\n",
    "    return c*x + d*y"
   ]
  },
  {
   "cell_type": "markdown",
   "metadata": {},
   "source": [
    "## Аналитическое решение\n",
    "\n",
    "$$\\alpha = (x_0 + y_0)e^{t_0}$$\n",
    "$$\\beta = -1(x_0 - 2 y_0)e^{1000t_0}$$\n",
    "\n",
    "$$x(t) = 2\\alpha e^{-t} + \\beta e^{-1000t}$$\n",
    "$$y(t) = -\\beta e^{-1000t} - \\alpha e^{-t}$$"
   ]
  },
  {
   "cell_type": "code",
   "execution_count": 4,
   "metadata": {},
   "outputs": [],
   "source": [
    "def Solution(left, right, N, x_0, y_0):\n",
    "    left = min(left, right)\n",
    "    right = max(left, right)\n",
    "    if N <= 0 :\n",
    "        print(\"Incorect number of splits\")\n",
    "        return\n",
    "    h = (right - left) / N\n",
    "    x = []\n",
    "    y = [] \n",
    "    t = []\n",
    "    t.append(left)\n",
    "    alpha = (x_0 + y_0)*exp(left)\n",
    "    beta = -1*(x_0+2*y_0)*exp(1000*left)\n",
    "    x.append(2*alpha*exp(-t[0]) + beta*exp(-1000*t[0]))\n",
    "    y.append(-beta*exp(-1000*t[0]) - alpha*exp(-t[0]))\n",
    "    for i in range(0, N):\n",
    "        t.append(t[i] + h)\n",
    "        x.append(2*alpha*exp(-t[i]) + beta*exp(-1000*t[i]))\n",
    "        y.append(-beta*exp(-1000*t[i]) - alpha*exp(-t[i]))\n",
    "    return x, y, t"
   ]
  },
  {
   "cell_type": "markdown",
   "metadata": {},
   "source": [
    "## Явный метод Эйлера\n",
    "\n",
    "### $$y_{i+1} = y_i + hf(x_{i}, y_{i}) $$"
   ]
  },
  {
   "cell_type": "code",
   "execution_count": 5,
   "metadata": {},
   "outputs": [],
   "source": [
    "def ExplicitEuler(left, right, N, x_0, y_0):\n",
    "    left = min(left, right)\n",
    "    right = max(left, right)\n",
    "    if N <= 0 :\n",
    "        print(\"Incorect number of splits\")\n",
    "        return\n",
    "    h = (right - left) / N\n",
    "    x = []\n",
    "    y = []\n",
    "    t = []\n",
    "    x.append(x_0)\n",
    "    y.append(y_0)\n",
    "    t.append(left)\n",
    "    for i in range(0, N):\n",
    "        x.append(x[i] + h * f1(x[i], y[i]))\n",
    "        y.append(y[i] + h * f2(x[i], y[i]))\n",
    "        t.append(t[i] + h)\n",
    "    return x, y, t"
   ]
  },
  {
   "cell_type": "markdown",
   "metadata": {},
   "source": [
    "## Неявный метод Эйлера\n",
    "\n",
    "### $$y_{i+1} = y_i + hf(x_{i+1}, y_{i+1})$$"
   ]
  },
  {
   "cell_type": "markdown",
   "metadata": {},
   "source": [
    "### Метод Крамера\n",
    "\n",
    "$$\\left\\{\\begin{matrix}\n",
    "x_{i+1} = x_i + h[ax_{i+1} + by_{i+1}]\n",
    "\\\\ \n",
    "y_{i+1} = y_i + h[cx_{i+1} + dy_{i+1}]\n",
    "\\end{matrix}\\right.$$\n",
    "\n",
    "$$\\left\\{\\begin{matrix}\n",
    "(ha-1)x_{i+1} + hby_{i+1} = -x_i\n",
    "\\\\ \n",
    "hcx_{i+1} + (hd-1)y_{i+1} = -y_i\n",
    "\\end{matrix}\\right.$$\n",
    "__________________________________________\n",
    "\n",
    "$$\\Delta = (1-ha)(1-hd) - h^{2}bc$$\n",
    "\n",
    "$$\\Delta_x =\\begin{bmatrix}\n",
    "-x_i  & hb \\\\ -y_i\n",
    " & (hd - 1)\n",
    "\\end{bmatrix} = (1-hd)x_i + hby_i$$\n",
    "\n",
    "$$\\Delta_x =\\begin{bmatrix}\n",
    "(ha-1)  & -x_i \\\\ hc\n",
    " & -y_i\n",
    "\\end{bmatrix} = (1-ha)y_i + hcx_i$$\n",
    "____________________________________________\n",
    "\n",
    "$$\\left\\{\\begin{matrix}\n",
    "x_{i+1} = \\frac{\\Delta_x}{\\Delta }\\\\ \n",
    "y_{i+1} = \\frac{\\Delta_y}{\\Delta }\n",
    "\\end{matrix}\\right.$$"
   ]
  },
  {
   "cell_type": "code",
   "execution_count": 6,
   "metadata": {},
   "outputs": [],
   "source": [
    "def Kramer(h, x_i, y_i):\n",
    "    delta = (1 - h*a) * (1 - h*d) - (h*b) * (h*c)\n",
    "    delta_x = (1 - h*d)*x_i + h*b*y_i\n",
    "    delta_y = (1 - h*a)*y_i + h*c*x_i\n",
    "    return delta_x/delta, delta_y/delta"
   ]
  },
  {
   "cell_type": "code",
   "execution_count": 7,
   "metadata": {},
   "outputs": [],
   "source": [
    "def ImplicitEuler(left, right, N, x_0, y_0):\n",
    "    left = min(left, right)\n",
    "    right = max(left, right)\n",
    "    if N <= 0 :\n",
    "        print(\"Incorect number of splits\")\n",
    "        return\n",
    "    h = (right - left) / N\n",
    "    x = []\n",
    "    y = []\n",
    "    t = []\n",
    "    x.append(x_0)\n",
    "    y.append(y_0)\n",
    "    t.append(left)\n",
    "    for i in range(0, N):\n",
    "        x_i, y_i = Kramer(h, x[i], y[i])\n",
    "        x.append(x_i)\n",
    "        y.append(y_i)\n",
    "        t.append(t[i] + h)\n",
    "    return x, y, t"
   ]
  },
  {
   "cell_type": "markdown",
   "metadata": {},
   "source": [
    "## Решение"
   ]
  },
  {
   "cell_type": "code",
   "execution_count": 8,
   "metadata": {},
   "outputs": [],
   "source": [
    "left = 0\n",
    "right = 1\n",
    "x_0 = 1\n",
    "y_0 = 1\n",
    "lamda = 1000 "
   ]
  },
  {
   "cell_type": "code",
   "execution_count": 32,
   "metadata": {},
   "outputs": [
    {
     "data": {
      "image/png": "[encoded data removed]",
      "text/plain": [
       "<Figure size 576x432 with 1 Axes>"
      ]
     },
     "metadata": {
      "needs_background": "light"
     },
     "output_type": "display_data"
    }
   ],
   "source": [
    "N_expl = 1000\n",
    "x_exp, y_exp, t_exp =  ExplicitEuler(left, right, N_expl, x_0, y_0)\n",
    "plt.figure(figsize=(8, 6))\n",
    "plt.plot(t_exp, x_exp, label='X')\n",
    "plt.plot(t_exp, y_exp, label='Y')\n",
    "plt.title('Решение Явным Методом Эйлера')\n",
    "plt.ylabel('X/Y', rotation=0)\n",
    "plt.xlabel('t')\n",
    "plt.legend()\n",
    "plt.show()"
   ]
  },
  {
   "cell_type": "code",
   "execution_count": 10,
   "metadata": {},
   "outputs": [
    {
     "data": {
      "image/png": "[encoded data removed]",
      "text/plain": [
       "<Figure size 576x432 with 1 Axes>"
      ]
     },
     "metadata": {
      "needs_background": "light"
     },
     "output_type": "display_data"
    }
   ],
   "source": [
    "N_impl = 100000\n",
    "x_imp, y_imp, t_imp =  ImplicitEuler(left, right, N_impl, x_0, y_0)\n",
    "plt.figure(figsize=(8, 6))\n",
    "plt.plot(t_imp, x_imp, label='X')\n",
    "plt.plot(t_imp, y_imp, label='Y')\n",
    "plt.title('Решение Неявным Методом Эйлера')\n",
    "plt.ylabel('X/Y', rotation=0)\n",
    "plt.xlabel('t')\n",
    "plt.legend()\n",
    "plt.show()"
   ]
  },
  {
   "cell_type": "code",
   "execution_count": 11,
   "metadata": {},
   "outputs": [
    {
     "data": {
      "image/png": "[encoded data removed]",
      "text/plain": [
       "<Figure size 576x432 with 1 Axes>"
      ]
     },
     "metadata": {
      "needs_background": "light"
     },
     "output_type": "display_data"
    }
   ],
   "source": [
    "N_sol = 100000\n",
    "x, y, t = Solution(left, right, N_sol, x_0, y_0)\n",
    "plt.figure(figsize=(8, 6))\n",
    "plt.plot(t, x, label='X')\n",
    "plt.plot(t, y, label='Y')\n",
    "plt.title('Аналитическое решение')\n",
    "plt.ylabel('X/Y', rotation=0)\n",
    "plt.xlabel('t')\n",
    "plt.legend()\n",
    "plt.show()"
   ]
  },
  {
   "cell_type": "markdown",
   "metadata": {},
   "source": [
    "## Графики ошибок"
   ]
  },
  {
   "cell_type": "code",
   "execution_count": 12,
   "metadata": {},
   "outputs": [],
   "source": [
    "err_exp_x = []\n",
    "err_exp_y = []\n",
    "err_imp_x = []\n",
    "err_imp_y = []\n",
    "for i in range(0, N_sol+1):\n",
    "    err_exp_x.append(abs(x_exp[i] - x[i]))\n",
    "    err_exp_y.append(abs(y_exp[i] - y[i]))\n",
    "    err_imp_x.append(abs(x_imp[i] - x[i]))\n",
    "    err_imp_y.append(abs(y_imp[i] - y[i]))"
   ]
  },
  {
   "cell_type": "code",
   "execution_count": 13,
   "metadata": {},
   "outputs": [
    {
     "data": {
      "image/png": "[encoded data removed]",
      "text/plain": [
       "<Figure size 576x432 with 1 Axes>"
      ]
     },
     "metadata": {
      "needs_background": "light"
     },
     "output_type": "display_data"
    }
   ],
   "source": [
    "plt.figure(figsize=(8, 6))\n",
    "plt.plot(t, err_exp_x,  label='X')\n",
    "plt.plot(t, err_exp_y, label='Y')\n",
    "plt.title('Ошибка Явного Метода Эйлера')\n",
    "plt.ylabel('Ошибка', rotation=0)\n",
    "plt.xlabel('t')\n",
    "plt.legend()\n",
    "plt.show()"
   ]
  },
  {
   "cell_type": "code",
   "execution_count": 14,
   "metadata": {},
   "outputs": [
    {
     "data": {
      "image/png": "[encoded data removed]",
      "text/plain": [
       "<Figure size 576x432 with 1 Axes>"
      ]
     },
     "metadata": {
      "needs_background": "light"
     },
     "output_type": "display_data"
    }
   ],
   "source": [
    "plt.figure(figsize=(8, 6))\n",
    "plt.plot(t, err_imp_x, label='X')\n",
    "plt.plot(t, err_imp_y, label='Y')\n",
    "plt.title('Ошибка Неявного Метода Эйлера')\n",
    "plt.ylabel('Ошибка', rotation=0)\n",
    "plt.xlabel('t')\n",
    "plt.legend()\n",
    "plt.show()"
   ]
  },
  {
   "cell_type": "markdown",
   "metadata": {},
   "source": [
    "# Оптимизация ( Алгоритм выбора метода)"
   ]
  },
  {
   "cell_type": "markdown",
   "metadata": {},
   "source": [
    "$$h < \\frac{2}{\\lambda} \\;\\;\\;=>\\;\\;\\; \\frac{t_N - t_0}{N} < \\frac{2}{\\lambda}\\;\\;\\; =>\\;\\;\\; N > \\frac{\\lambda(t_N - t_0)}{2}$$"
   ]
  },
  {
   "cell_type": "markdown",
   "metadata": {},
   "source": [
    "Согласно формуле выше для усточивого решения достанточно N = 501, но если использовать это для построения решения , не сложно будет убедиться что оно расходиться, поэтом в данном случае лучше взять N = 1000. Замерим за какое время происходит вычисление явным и неявным метод и затем вычилим коэфициент выбора."
   ]
  },
  {
   "cell_type": "code",
   "execution_count": 29,
   "metadata": {},
   "outputs": [
    {
     "name": "stdout",
     "output_type": "stream",
     "text": [
      "712 µs ± 19.3 µs per loop (mean ± std. dev. of 7 runs, 1000 loops each)\n"
     ]
    }
   ],
   "source": [
    "N = 1000\n",
    "%timeit ExplicitEuler(left, right, N, x_0, y_0)"
   ]
  },
  {
   "cell_type": "code",
   "execution_count": 28,
   "metadata": {},
   "outputs": [
    {
     "name": "stdout",
     "output_type": "stream",
     "text": [
      "935 µs ± 38.2 µs per loop (mean ± std. dev. of 7 runs, 1000 loops each)\n"
     ]
    }
   ],
   "source": [
    "N = 1000\n",
    "%timeit ImplicitEuler(left, right, N, x_0, y_0)"
   ]
  },
  {
   "cell_type": "markdown",
   "metadata": {},
   "source": [
    "Среднее время выполнения для N = 1000 :\n",
    "Явным ~ 700 µs\n",
    "Неявным ~930 µs\n",
    "Отсюда коэффициент выбора между методами составляет примерно  $$k = \\frac{930}{700} = 1.33$$"
   ]
  },
  {
   "cell_type": "code",
   "execution_count": 17,
   "metadata": {},
   "outputs": [],
   "source": [
    "def optimizer(N):\n",
    "    #N_extr = lamda*(right - left) / 2\n",
    "    N_extr = 1000\n",
    "    if N > N_extr:\n",
    "        return ExplicitEuler(left, right, N, x_0, y_0)\n",
    "    if N_extr < 1.33 * N:\n",
    "        return ExplicitEuler(left, right, N_extr, x_0, y_0)\n",
    "    else:\n",
    "        return ImplicitEuler(left, right, N, x_0, y_0)"
   ]
  },
  {
   "cell_type": "code",
   "execution_count": 18,
   "metadata": {},
   "outputs": [
    {
     "name": "stdout",
     "output_type": "stream",
     "text": [
      "705 µs ± 7.36 µs per loop (mean ± std. dev. of 7 runs, 1000 loops each)\n"
     ]
    }
   ],
   "source": [
    "%timeit optimizer(1000)"
   ]
  },
  {
   "cell_type": "code",
   "execution_count": null,
   "metadata": {},
   "outputs": [],
   "source": []
  },
  {
   "cell_type": "code",
   "execution_count": null,
   "metadata": {},
   "outputs": [],
   "source": []
  }
 ],
 "metadata": {
  "kernelspec": {
   "display_name": "Python 3",
   "language": "python",
   "name": "python3"
  },
  "language_info": {
   "codemirror_mode": {
    "name": "ipython",
    "version": 3
   },
   "file_extension": ".py",
   "mimetype": "text/x-python",
   "name": "python",
   "nbconvert_exporter": "python",
   "pygments_lexer": "ipython3",
   "version": "3.7.4"
  }
 },
 "nbformat": 4,
 "nbformat_minor": 2
}
