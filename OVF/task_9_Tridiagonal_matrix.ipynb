{
 "cells": [
  {
   "cell_type": "markdown",
   "metadata": {},
   "source": [
    "# Задание 9"
   ]
  },
  {
   "cell_type": "markdown",
   "metadata": {},
   "source": [
    "Методом прогонки решить разностный аналог граничной задачи для уравнения y`` = sin (x) на промежутке 0 < x < π. Рассмотреть различные варианты граничных условий."
   ]
  },
  {
   "cell_type": "markdown",
   "metadata": {},
   "source": [
    "## Аналитическое решение"
   ]
  },
  {
   "cell_type": "markdown",
   "metadata": {},
   "source": [
    "$$\\left\\{\\begin{matrix}\n",
    "{y}'' = sin(x)\\\\ \n",
    "y(0) = \\mu_1\\\\ \n",
    "y(\\pi ) = \\mu_2\n",
    "\\end{matrix}\\right.$$\n",
    "\n",
    "$$=>\\;\\;y(x) = \\mu_1 + \\frac{\\mu_2  - \\mu_1 }{\\pi }x - sin(x)$$"
   ]
  },
  {
   "cell_type": "markdown",
   "metadata": {},
   "source": [
    "$$\\left\\{\\begin{matrix}\n",
    "{y}'' = sin(x)\\\\ \n",
    "y(0) = \\mu_1\\\\ \n",
    "y'(\\pi ) = \\mu_2\n",
    "\\end{matrix}\\right.$$\n",
    "\n",
    "$$=>\\;\\;y(x) = \\mu_1 + (\\mu_2  - 1)x - sin(x)$$"
   ]
  },
  {
   "cell_type": "markdown",
   "metadata": {},
   "source": [
    "## Решение методом прогонки тридиагональной матрицы"
   ]
  },
  {
   "cell_type": "markdown",
   "metadata": {},
   "source": [
    "**Граничные условия:**"
   ]
  },
  {
   "cell_type": "markdown",
   "metadata": {},
   "source": [
    "$$\\left\\{\\begin{matrix}\n",
    "y_0 = \\mu_1\\\\\n",
    "y_N = \\mu_2\n",
    "\\end{matrix}\\right. \\;\\;\\;\\; либо \\;\\;\\;\\;\\left\\{\\begin{matrix}\n",
    "{y_0}' = \\mu_1\\\\\n",
    "{y_N}' = \\mu_2\n",
    "\\end{matrix}\\right.$$"
   ]
  },
  {
   "cell_type": "markdown",
   "metadata": {},
   "source": [
    "Пердставим второе устловие в следующем виде:\n",
    "$$\\left\\{\\begin{matrix}\n",
    "\\frac{y_1-y_0}{h} = \\mu1\\\\\n",
    "\\frac{y_N-y_{N-1}}{h} = \\mu2\n",
    "\\end{matrix}\\right. \\;\\;\\;\\; или \\;\\;\\;\\; \n",
    "\\left\\{\\begin{matrix}\n",
    "y_0 = y_1 - h\\mu1\\\\\n",
    "y_N = y_{N-1} + h\\mu2\n",
    "\\end{matrix}\\right.$$\n",
    "Тогда в общем виде:\n",
    "## $$\\left\\{\\begin{matrix}\n",
    "y_0 = \\lambda_1y_1 + \\mu1\\\\\n",
    "y_N = \\lambda_2y_{N-1} + \\mu2\n",
    "\\end{matrix}\\right.$$"
   ]
  },
  {
   "cell_type": "markdown",
   "metadata": {},
   "source": [
    "**Краевая задача:**\n",
    "$$\\left\\{\\begin{matrix}\n",
    "a_i y_{i-1} + b_i y_i + c_i y_{i+1} = f_i \\\\ \n",
    "y_0 = \\lambda_1y_1 + \\mu1\\\\ \n",
    "y_N = \\lambda_2y_{N-1} + \\mu2\n",
    "\\end{matrix}\\right. $$ "
   ]
  },
  {
   "cell_type": "markdown",
   "metadata": {},
   "source": [
    "$$A = \\begin{vmatrix}\n",
    "1 & -\\lambda_1 & 0 & ... & 0 & 0 & 0 & ... & 0 & 0 & 0\\\\ \n",
    "a_1 & b_1 & c_1 & ... & 0 & 0 & 0 & ... & 0 & 0 & 0\\\\ \n",
    "... & ... & ... & ... & ... & ... & ... & ... & ... & ... & ...\\\\ \n",
    "0 & 0 & 0 & ... & a_i & b_i & c_i & ... & 0 & 0 & 0\\\\ \n",
    "... & ... & ... & ... & ... & ... & ... & ... & ... & ... & ...\\\\ \n",
    "0 & 0 & 0 & ... & 0 & 0 & 0 & ... & a_{N-1} & b_{N-1} & c_{N-1}\\\\ \n",
    "0 & 0 & 0 & ... & 0 & 0 & 0 & ... & 0 & -\\lambda_2 & 1\n",
    "\\end{vmatrix}$$\n",
    "\n",
    "$$Ay = f, y =(y_0, y_1,...,y_N), f = (\\mu_1, f_1,...,f_{N-1}, \\mu_2) $$"
   ]
  },
  {
   "cell_type": "markdown",
   "metadata": {},
   "source": [
    "Пусть: $$y_i = \\alpha_{i+1}y_{i+1}+\\beta_{i+1}$$\n",
    "Тогда: $$y_{i-1} = \\alpha_i y_i + \\beta_i$$\n",
    "Подставим в краевую задачу и получим: $$ a_i(\\alpha_i y_i + \\beta_i) + b_i y_i +c_i y_{i+1} = f_i$$\n",
    "Или: $$y_i = -\\frac{c_i}{a_i\\alpha_i + b_i}y_{i+1} + \\frac{f_i - a_i\\beta_i}{a_i\\alpha_i + b_i}$$\n",
    "**Получаем:**\n",
    "## $$ \\alpha_{i+1}=-\\frac{c_i}{a_i\\alpha_i + b_i} \\;\\;\\;\\; \\beta_{i+1} = \\frac{f_i - a_i\\beta_i}{a_i\\alpha_i + b_i}$$ \n",
    "## $$\\alpha_1 = \\lambda_1, \\;\\;\\; \\beta_1 = \\mu_1$$\n",
    "## $$y_N =\\frac{\\lambda_2\\beta_N + \\mu_2}{1-\\alpha_N\\lambda_2}, \\;\\;\\; y_i = \\alpha_{i+1}y_{i+1}+\\beta_{i+1}$$\n"
   ]
  },
  {
   "cell_type": "markdown",
   "metadata": {},
   "source": [
    "### Решим задачу из условия"
   ]
  },
  {
   "cell_type": "markdown",
   "metadata": {},
   "source": [
    "$$\\left\\{\\begin{matrix}\n",
    "{y}'' = f(x)\\\\ \n",
    "y(0) = \\mu_1\\\\ \n",
    "y(\\pi ) = \\mu_2\n",
    "\\end{matrix}\\right. => \\left\\{\\begin{matrix}\n",
    "\\frac{y_{i-1} -2y_i + y_{i+1}}{h^2} = f_i \\\\ \n",
    "y_0 = \\lambda_1y_1 + \\mu1\\\\\n",
    "y_N = \\lambda_2y_{N-1} + \\mu2\n",
    "\\end{matrix}\\right. $$ "
   ]
  },
  {
   "cell_type": "markdown",
   "metadata": {},
   "source": [
    "$$\\bar{a} = [0, 1, 1, ... 1]$$\n",
    "$$\\bar{b} = [-2, -2, ... -2]$$\n",
    "$$\\bar{c} = [1, 1, ... 1, 0]$$\n",
    "$$\\bar{d} = [h^2f_0, ... h^2f_n]$$"
   ]
  },
  {
   "cell_type": "code",
   "execution_count": 1,
   "metadata": {},
   "outputs": [],
   "source": [
    "from math import sin, pi\n",
    "import numpy as np\n",
    "import matplotlib.pyplot as plt"
   ]
  },
  {
   "cell_type": "code",
   "execution_count": 2,
   "metadata": {},
   "outputs": [],
   "source": [
    "def f(x):\n",
    "    return sin(x)"
   ]
  },
  {
   "cell_type": "code",
   "execution_count": 3,
   "metadata": {},
   "outputs": [],
   "source": [
    "def Analytical(x):\n",
    "    if lambda2 == 1:\n",
    "        return -sin(x)+(mu2-1)*x + mu1\n",
    "    return -sin(x)+(mu2-mu1)/pi*x + mu1"
   ]
  },
  {
   "cell_type": "code",
   "execution_count": 4,
   "metadata": {},
   "outputs": [],
   "source": [
    "def TDMA(a, b, c, d, N):\n",
    "    alpha = np.zeros(N+1)\n",
    "    beta = np.zeros(N+1)\n",
    "    beta[1] = mu1\n",
    "    alpha[1]  = lambda1\n",
    "    for i in range(1, N):\n",
    "        alpha[i+1] = (-c[i] / (b[i] + alpha[i] * a[i]))\n",
    "        beta[i+1] = (d[i] - a[i] * beta[i]) / (b[i] + alpha[i] * a[i])\n",
    "    y = np.zeros(N+1)\n",
    "    y[N] = (mu2 + lambda2*beta[N])/(1 - alpha[N]*lambda2)\n",
    "    for i in range (N-1, -1, -1):\n",
    "        y[i] = alpha[i+1] * y[i+1] + beta[i+1]\n",
    "    return y"
   ]
  },
  {
   "cell_type": "markdown",
   "metadata": {},
   "source": [
    "## Инициализация"
   ]
  },
  {
   "cell_type": "code",
   "execution_count": 5,
   "metadata": {},
   "outputs": [],
   "source": [
    "N = 1000\n",
    "x1 = 0\n",
    "x2 = pi\n",
    "h = (x2-x1) / (N)"
   ]
  },
  {
   "cell_type": "code",
   "execution_count": 12,
   "metadata": {},
   "outputs": [],
   "source": [
    "lambda1 = 0\n",
    "lambda2 = 0\n",
    "mu1 = 5\n",
    "mu2 = 0"
   ]
  },
  {
   "cell_type": "code",
   "execution_count": 13,
   "metadata": {},
   "outputs": [],
   "source": [
    "a = np.ones(N+1)\n",
    "b = np.full(N+1, -2)\n",
    "c = np.ones(N+1)\n",
    "a[0] = 0\n",
    "c[N] = 0\n",
    "\n",
    "x =[]\n",
    "d = []\n",
    "ya = []\n",
    "\n",
    "for i in range (0, N+1):\n",
    "    x.append(x1+h*i)\n",
    "    d.append(h*h*f(x[i]))\n",
    "    ya.append(Analytical(x[i]))\n",
    "\n",
    "d[0] = mu1\n",
    "d[N] = mu2 "
   ]
  },
  {
   "cell_type": "code",
   "execution_count": 14,
   "metadata": {},
   "outputs": [],
   "source": [
    "y = TDMA(a, b, c, d, N)"
   ]
  },
  {
   "cell_type": "code",
   "execution_count": 15,
   "metadata": {},
   "outputs": [
    {
     "data": {
      "text/plain": [
       "<matplotlib.legend.Legend at 0x7f325acb54d0>"
      ]
     },
     "execution_count": 15,
     "metadata": {},
     "output_type": "execute_result"
    },
    {
     "data": {
      "image/png": "[encoded data removed]",
      "text/plain": [
       "<Figure size 576x432 with 1 Axes>"
      ]
     },
     "metadata": {
      "needs_background": "light"
     },
     "output_type": "display_data"
    }
   ],
   "source": [
    "plt.figure(figsize=(8, 6))\n",
    "plt.plot(x, y, label='TDMA')\n",
    "plt.plot(x, ya, label='Analytical')\n",
    "plt.title('Решение Задачи Коши')\n",
    "plt.ylabel('Y', rotation=0)\n",
    "plt.xlabel('X')\n",
    "plt.legend()"
   ]
  },
  {
   "cell_type": "markdown",
   "metadata": {},
   "source": [
    "## График ошибки"
   ]
  },
  {
   "cell_type": "code",
   "execution_count": 16,
   "metadata": {},
   "outputs": [],
   "source": [
    "error = [abs(y[i] - ya[i]) for i in range(0, N+1)]"
   ]
  },
  {
   "cell_type": "code",
   "execution_count": 17,
   "metadata": {},
   "outputs": [
    {
     "data": {
      "text/plain": [
       "Text(0.5, 0, 'X')"
      ]
     },
     "execution_count": 17,
     "metadata": {},
     "output_type": "execute_result"
    },
    {
     "data": {
      "image/png": "[encoded data removed]",
      "text/plain": [
       "<Figure size 576x432 with 1 Axes>"
      ]
     },
     "metadata": {
      "needs_background": "light"
     },
     "output_type": "display_data"
    }
   ],
   "source": [
    "plt.figure(figsize=(8, 6))\n",
    "plt.plot(x, error)\n",
    "plt.title('График ошибки')\n",
    "plt.ylabel('Ошибка', rotation=0)\n",
    "plt.xlabel('X')"
   ]
  },
  {
   "cell_type": "code",
   "execution_count": null,
   "metadata": {},
   "outputs": [],
   "source": []
  }
 ],
 "metadata": {
  "kernelspec": {
   "display_name": "Python 3",
   "language": "python",
   "name": "python3"
  },
  "language_info": {
   "codemirror_mode": {
    "name": "ipython",
    "version": 3
   },
   "file_extension": ".py",
   "mimetype": "text/x-python",
   "name": "python",
   "nbconvert_exporter": "python",
   "pygments_lexer": "ipython3",
   "version": "3.7.4"
  }
 },
 "nbformat": 4,
 "nbformat_minor": 2
}
