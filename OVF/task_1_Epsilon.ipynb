{
 "cells": [
  {
   "cell_type": "markdown",
   "metadata": {},
   "source": [
    "# Задание 1"
   ]
  },
  {
   "cell_type": "markdown",
   "metadata": {},
   "source": [
    "Машинным называется такое число, что 1 + e/2 == 1, но 1 + e != 1. (Также часто используется обозначение ULP - unit in the last place, или unit of least precision, единица в младшем разряде.) Найти машинное **e**, число разрядов в мантиссе, максимальную и минимальную степени, при вычислениях с обычной и двойной точностью. Сравнить друг с другом четыре числа: 1, 1 + e/2, 1 + e и 1 + e + e/2, объяснить результат."
   ]
  },
  {
   "cell_type": "code",
   "execution_count": 1,
   "metadata": {},
   "outputs": [],
   "source": [
    "import numpy as np"
   ]
  },
  {
   "cell_type": "markdown",
   "metadata": {},
   "source": [
    "## Поиск машинного эпсилон"
   ]
  },
  {
   "cell_type": "code",
   "execution_count": 2,
   "metadata": {},
   "outputs": [],
   "source": [
    "def find_eps(typer):\n",
    "    arr = [typer(1.0)]\n",
    "    i = 0\n",
    "    while arr[i] != typer(0.0):\n",
    "        arr.append(typer(1 + 1 / (2 ** i)) - typer(1))\n",
    "        i += 1\n",
    "    epsilon = arr[i - 1]\n",
    "    mantissa = i - 2\n",
    "    print('Machine epsilon:', epsilon, ' Bit depth of mantissa:', mantissa)\n",
    "    return epsilon, mantissa"
   ]
  },
  {
   "cell_type": "markdown",
   "metadata": {},
   "source": [
    "Найдем машинное эпсилон (ULP) и число разрядов в мантиссе с **одинарной точность**"
   ]
  },
  {
   "cell_type": "code",
   "execution_count": 3,
   "metadata": {},
   "outputs": [
    {
     "name": "stdout",
     "output_type": "stream",
     "text": [
      "Machine epsilon: 1.1920929e-07  Bit depth of mantissa: 23\n"
     ]
    }
   ],
   "source": [
    "eps1, mant1 = find_eps(np.float32)"
   ]
  },
  {
   "cell_type": "markdown",
   "metadata": {},
   "source": [
    "Найдем машинное эпсилон (ULP) и число разрядов в мантиссе с **двойной точность**"
   ]
  },
  {
   "cell_type": "code",
   "execution_count": 4,
   "metadata": {},
   "outputs": [
    {
     "name": "stdout",
     "output_type": "stream",
     "text": [
      "Machine epsilon: 2.220446049250313e-16  Bit depth of mantissa: 52\n"
     ]
    }
   ],
   "source": [
    "eps2, mant2 = find_eps(np.float64)"
   ]
  },
  {
   "cell_type": "markdown",
   "metadata": {},
   "source": [
    "## Поиск максимальной и минимальной степени"
   ]
  },
  {
   "cell_type": "code",
   "execution_count": 6,
   "metadata": {},
   "outputs": [],
   "source": [
    "def find_max_min(typer, mantissa):\n",
    "    arr = [typer(1.0)]\n",
    "    i = 0\n",
    "    while arr[i] != typer('inf'):\n",
    "        arr.append(typer(arr[i] * 2))\n",
    "        i += 1\n",
    "    print('Maximum exponent:', i - 1, ' maximum value:', arr[i - 1])\n",
    "\n",
    "    arr = [typer(1.0)]\n",
    "    i = 0\n",
    "    while arr[i] != typer(0.0):\n",
    "        arr.append(typer(arr[i] / 2))\n",
    "        i += 1\n",
    "    print('Minimum exponent:', i - 1 - mantissa, ' minimum value:', arr[i - 1 - mantissa])"
   ]
  },
  {
   "cell_type": "markdown",
   "metadata": {},
   "source": [
    "Теперь найдем максимальную и минимальную степень (машинную бесконечность и машинный ноль) для чисел с **одинарной точностью**"
   ]
  },
  {
   "cell_type": "code",
   "execution_count": 7,
   "metadata": {},
   "outputs": [
    {
     "name": "stdout",
     "output_type": "stream",
     "text": [
      "Maximum exponent: 127 ; maximum value: 1.7014118e+38\n",
      "Minimum exponent: 126 ; minimum value: 1.1754944e-38\n"
     ]
    }
   ],
   "source": [
    "find_max_min(np.float32, mant1)"
   ]
  },
  {
   "cell_type": "markdown",
   "metadata": {},
   "source": [
    "Теперь найдем максимальную и минимальную степень (машинную бесконечность и машинный ноль) для чисел с **двойной точностью**"
   ]
  },
  {
   "cell_type": "code",
   "execution_count": 8,
   "metadata": {},
   "outputs": [
    {
     "name": "stdout",
     "output_type": "stream",
     "text": [
      "Maximum exponent: 1023 ; maximum value: 8.98846567431158e+307\n",
      "Minimum exponent: 1022 ; minimum value: 2.2250738585072014e-308\n"
     ]
    },
    {
     "name": "stderr",
     "output_type": "stream",
     "text": [
      "/home/nikita/anaconda3/lib/python3.7/site-packages/ipykernel_launcher.py:5: RuntimeWarning: overflow encountered in double_scalars\n",
      "  \"\"\"\n"
     ]
    }
   ],
   "source": [
    "find_max_min(np.float64, mant2)"
   ]
  },
  {
   "cell_type": "markdown",
   "metadata": {},
   "source": [
    "## Сравнение чисел"
   ]
  },
  {
   "cell_type": "markdown",
   "metadata": {},
   "source": [
    " Сравнить друг с другом четыре числа: 1, 1 + e/2, 1 + e и 1 + e + e/2, объяснить результат."
   ]
  },
  {
   "cell_type": "code",
   "execution_count": 12,
   "metadata": {},
   "outputs": [],
   "source": [
    "def compare(typer, epsilon):\n",
    "    compare = [typer(1.),1 + epsilon + epsilon / 2) typer(1. + epsilon / 2), typer(1. + epsilon),\n",
    "                typer(]\n",
    "    for i in range(4):\n",
    "        j = i + 1\n",
    "        while j < 4:\n",
    "            print(i, j)\n",
    "            if compare[i] < compare[j]:\n",
    "                print(compare[i], 'less than', compare[j])\n",
    "            elif compare[i] > compare[j]:\n",
    "                print(compare[i], 'more than', compare[j])\n",
    "            else:\n",
    "                print(compare[i], 'equal to', compare[j])\n",
    "            j += 1"
   ]
  },
  {
   "cell_type": "code",
   "execution_count": 16,
   "metadata": {},
   "outputs": [
    {
     "data": {
      "text/plain": [
       "1.0000003576278687"
      ]
     },
     "execution_count": 16,
     "metadata": {},
     "output_type": "execute_result"
    }
   ],
   "source": [
    "1 + 3*eps1"
   ]
  },
  {
   "cell_type": "markdown",
   "metadata": {},
   "source": [
    "Сравним числа с **одинарной точностью**"
   ]
  },
  {
   "cell_type": "code",
   "execution_count": 13,
   "metadata": {},
   "outputs": [
    {
     "name": "stdout",
     "output_type": "stream",
     "text": [
      "0 1\n",
      "1.0 equal to 1.0\n",
      "0 2\n",
      "1.0 less than 1.0000001\n",
      "0 3\n",
      "1.0 less than 1.0000002\n",
      "1 2\n",
      "1.0 less than 1.0000001\n",
      "1 3\n",
      "1.0 less than 1.0000002\n",
      "2 3\n",
      "1.0000001 less than 1.0000002\n"
     ]
    }
   ],
   "source": [
    "compare(np.float32, eps1)"
   ]
  },
  {
   "cell_type": "markdown",
   "metadata": {},
   "source": [
    "Сравним числа с **двойной точностью**"
   ]
  },
  {
   "cell_type": "code",
   "execution_count": 11,
   "metadata": {},
   "outputs": [
    {
     "name": "stdout",
     "output_type": "stream",
     "text": [
      "1.0 equal to 1.0\n",
      "1.0 less than 1.0000000000000002\n",
      "1.0 less than 1.0000000000000004\n",
      "1.0 less than 1.0000000000000002\n",
      "1.0 less than 1.0000000000000004\n",
      "1.0000000000000002 less than 1.0000000000000004\n"
     ]
    }
   ],
   "source": [
    "compare(np.float64, eps2)"
   ]
  }
 ],
 "metadata": {
  "kernelspec": {
   "display_name": "Python 3",
   "language": "python",
   "name": "python3"
  },
  "language_info": {
   "codemirror_mode": {
    "name": "ipython",
    "version": 3
   },
   "file_extension": ".py",
   "mimetype": "text/x-python",
   "name": "python",
   "nbconvert_exporter": "python",
   "pygments_lexer": "ipython3",
   "version": "3.7.4"
  }
 },
 "nbformat": 4,
 "nbformat_minor": 2
}
